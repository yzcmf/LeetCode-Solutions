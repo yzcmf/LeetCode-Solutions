{
  "cells": [
    {
      "cell_type": "markdown",
      "metadata": {
        "id": "view-in-github",
        "colab_type": "text"
      },
      "source": [
        "<a href=\"https://colab.research.google.com/github/yzcmf/LeetCode-Solutions/blob/master/code-interview-solution.ipynb\" target=\"_parent\"><img src=\"https://colab.research.google.com/assets/colab-badge.svg\" alt=\"Open In Colab\"/></a>"
      ]
    },
    {
      "cell_type": "markdown",
      "metadata": {
        "id": "Wf5KrEb6vrkR"
      },
      "source": [
        "# Code Interview Practice"
      ]
    },
    {
      "cell_type": "markdown",
      "source": [
        "# LRU Cache"
      ],
      "metadata": {
        "id": "imucr7Wz0MuR"
      }
    },
    {
      "cell_type": "code",
      "source": [
        "class LRU(object):\n",
        "  def __init__(self, cap):\n",
        "      self.cap = cap\n",
        "      self.head =\n",
        "\n",
        "  def get(self, key):\n",
        "      pass\n",
        "  def put(self, val):\n",
        "      pass\n",
        "  def __add_to_front(self, node):\n",
        "      pass\n",
        "  def __remove(self, node):\n",
        "      pass\n",
        "\n",
        "class ListNode(object):\n",
        "\n",
        "\n",
        "lru = LRU(2)\n",
        "lru.put(1)\n",
        "lru.put(2)\n",
        "lru.put(3)\n",
        "lru.put(4)\n",
        "lru.get(2)\n",
        "lru.get(3)"
      ],
      "metadata": {
        "id": "cpJBs-oU0Scw"
      },
      "execution_count": null,
      "outputs": []
    }
  ],
  "metadata": {
    "colab": {
      "name": "欢迎使用 Colab",
      "toc_visible": true,
      "provenance": [],
      "include_colab_link": true
    },
    "kernelspec": {
      "display_name": "Python 3",
      "name": "python3"
    }
  },
  "nbformat": 4,
  "nbformat_minor": 0
}