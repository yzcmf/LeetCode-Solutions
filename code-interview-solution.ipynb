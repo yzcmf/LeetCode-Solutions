{
  "cells": [
    {
      "cell_type": "markdown",
      "metadata": {
        "id": "view-in-github",
        "colab_type": "text"
      },
      "source": [
        "<a href=\"https://colab.research.google.com/github/yzcmf/LeetCode-Solutions/blob/master/code-interview-solution.ipynb\" target=\"_parent\"><img src=\"https://colab.research.google.com/assets/colab-badge.svg\" alt=\"Open In Colab\"/></a>"
      ]
    },
    {
      "cell_type": "markdown",
      "metadata": {
        "id": "Wf5KrEb6vrkR"
      },
      "source": [
        "# Code Interview Practice"
      ]
    },
    {
      "cell_type": "markdown",
      "source": [
        "# LRU Cache"
      ],
      "metadata": {
        "id": "imucr7Wz0MuR"
      }
    },
    {
      "cell_type": "code",
      "source": [
        "class LRU(object):\n",
        "  def __init__(self, cap):\n",
        "      if cap < 1: return None\n",
        "      self.cap = cap\n",
        "      self.cache = dict()\n",
        "      self.head = ListNode(0, 0)\n",
        "      self.tail = ListNode(0, 0)\n",
        "      self.head.next = self.tail\n",
        "      self.tail.pre = self.head\n",
        "\n",
        "  def get(self, key):\n",
        "      if key not in self.cache: return -1\n",
        "      node = self.cache[key]\n",
        "      self.__remove(node)\n",
        "      self.__add_to_front(node)\n",
        "      return node.val\n",
        "\n",
        "  def put(self, key, val):\n",
        "      node = ListNode(key, val)\n",
        "      if key in self.cache:\n",
        "         self.__remove(node)\n",
        "      self.cache[key] = node\n",
        "      self.__add_to_front(node)\n",
        "      if self.cap < len(self.cache):\n",
        "         out = self.tail.pre\n",
        "         self.__remove(out)\n",
        "         del self.cache[out.key]\n",
        "\n",
        "  def __add_to_front(self, node):\n",
        "      nxt = self.head.next\n",
        "      self.head.next = node\n",
        "      node.next = nxt\n",
        "      node.pre = self.head\n",
        "      nxt.pre = node\n",
        "\n",
        "  def __remove(self, node):\n",
        "      pre = node.pre\n",
        "      nxt = node.next\n",
        "      pre.next = nxt\n",
        "      nxt.pre = pre\n",
        "\n",
        "  def printer(self):\n",
        "      node = self.head.next\n",
        "      while node and node != self.tail:\n",
        "            print(\"[\" + str(node.key) + \":\" + str(node.val) + \"]\" , end= ' ->')\n",
        "            node = node.next\n",
        "      print('\\n')\n",
        "\n",
        "class ListNode(object): # double linklist\n",
        "      def __init__(self, key, val):\n",
        "        self.key = key\n",
        "        self.val  = val\n",
        "        self.pre = None\n",
        "        self.next = None\n",
        "\n",
        "\n",
        "lru = LRU(4)\n",
        "lru.printer()\n",
        "lru.put(2025-6-25-17-29, '1pointerAcre3')\n",
        "lru.printer()\n",
        "lru.put(2025-6-25-17-30, 'github')\n",
        "lru.printer()\n",
        "lru.put(2025-6-25-17-31, 'yuxuanzhouo3')\n",
        "lru.printer()\n",
        "lru.put(2025-6-25-17-32, 'lru grammer')\n",
        "lru.printer()\n",
        "lru.put(2025-6-25-17-33, 'colab')\n",
        "lru.printer()\n",
        "lru.put(2025-6-25-17-34, 'leetcode')\n",
        "lru.printer()\n",
        "lru.put(2025-6-25-17-35, 'longzhu')\n",
        "lru.printer()\n",
        "lru.put(2025-6-25-17-36, 'gdp')\n",
        "lru.get(2025-6-25-17-32)\n",
        "lru.printer()\n",
        "lru.get(2025-6-25-17-31)\n",
        "lru.printer()\n",
        "lru.get(2025-6-25-17-31)\n",
        "lru.printer()"
      ],
      "metadata": {
        "colab": {
          "base_uri": "https://localhost:8080/"
        },
        "id": "cpJBs-oU0Scw",
        "outputId": "c5aa5724-ef2c-4422-8bb9-bdcdb6722388"
      },
      "execution_count": 36,
      "outputs": [
        {
          "output_type": "stream",
          "name": "stdout",
          "text": [
            "\n",
            "\n",
            "[1:1pointerAcre3] ->\n",
            "\n",
            "[2:github] ->[1:1pointerAcre3] ->\n",
            "\n",
            "[3:yuxuanzhouo3] ->[2:github] ->[1:1pointerAcre3] ->\n",
            "\n",
            "[4:lru grammer] ->[3:yuxuanzhouo3] ->[2:github] ->[1:1pointerAcre3] ->\n",
            "\n",
            "[5:colab] ->[4:lru grammer] ->[3:yuxuanzhouo3] ->[2:github] ->\n",
            "\n",
            "[6:leetcode] ->[5:colab] ->[4:lru grammer] ->[3:yuxuanzhouo3] ->\n",
            "\n",
            "[7:longzhu] ->[6:leetcode] ->[5:colab] ->[4:lru grammer] ->\n",
            "\n",
            "[8:gdp] ->[7:longzhu] ->[6:leetcode] ->[5:colab] ->\n",
            "\n",
            "[8:gdp] ->[7:longzhu] ->[6:leetcode] ->[5:colab] ->\n",
            "\n"
          ]
        }
      ]
    },
    {
      "cell_type": "code",
      "source": [],
      "metadata": {
        "id": "2gH2VzmK8P4j"
      },
      "execution_count": null,
      "outputs": []
    }
  ],
  "metadata": {
    "colab": {
      "name": "欢迎使用 Colab",
      "toc_visible": true,
      "provenance": [],
      "include_colab_link": true
    },
    "kernelspec": {
      "display_name": "Python 3",
      "name": "python3"
    }
  },
  "nbformat": 4,
  "nbformat_minor": 0
}